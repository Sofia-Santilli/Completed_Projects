{
  "nbformat": 4,
  "nbformat_minor": 0,
  "metadata": {
    "colab": {
      "name": "HanoiTowers",
      "provenance": [],
      "collapsed_sections": []
    },
    "kernelspec": {
      "name": "python3",
      "display_name": "Python 3"
    },
    "language_info": {
      "name": "python"
    }
  },
  "cells": [
    {
      "cell_type": "markdown",
      "source": [
        "# Welcome!\n",
        "\n",
        "Welcome to this short demo of the Unified Planning (UP) library. In this interactive demo we will install the library itself, with four planning engines and we will showcase some of the functionalities available in the library. This demo focuses on classical and numeric planning, but the UP library is capable of temporal planning as well and more formalisms will be added soon!   "
      ],
      "metadata": {
        "id": "VX7d9ea9Mqk_"
      }
    },
    {
      "cell_type": "markdown",
      "source": [
        "# Let's install the Unified Planning Library and three planners"
      ],
      "metadata": {
        "id": "pUMcZA4KuSxc"
      }
    },
    {
      "cell_type": "markdown",
      "source": [
        "Let's start by installing the library! The UP library can be installed directly from PIP with a single command."
      ],
      "metadata": {
        "id": "eHYIxtdIumvm"
      }
    },
    {
      "cell_type": "markdown",
      "source": [
        "We install also Pyperplan, Tamer, ENHSP (requires Java 17) and Fast Downward"
      ],
      "metadata": {
        "id": "QCaNxGmfUrbv"
      }
    },
    {
      "cell_type": "code",
      "source": [
        "!apt-get install openjdk-17-jdk"
      ],
      "metadata": {
        "id": "XtqzswFGcD_2",
        "colab": {
          "base_uri": "https://localhost:8080/"
        },
        "outputId": "a60b6c66-9e18-4282-f2ea-8ccfc913a99e"
      },
      "execution_count": null,
      "outputs": [
        {
          "output_type": "stream",
          "name": "stdout",
          "text": [
            "Reading package lists... Done\n",
            "Building dependency tree       \n",
            "Reading state information... Done\n",
            "The following package was automatically installed and is no longer required:\n",
            "  libnvidia-common-460\n",
            "Use 'apt autoremove' to remove it.\n",
            "The following additional packages will be installed:\n",
            "  fonts-dejavu-core fonts-dejavu-extra libatk-wrapper-java\n",
            "  libatk-wrapper-java-jni libxxf86dga1 openjdk-17-jdk-headless openjdk-17-jre\n",
            "  openjdk-17-jre-headless x11-utils\n",
            "Suggested packages:\n",
            "  openjdk-17-demo openjdk-17-source visualvm libnss-mdns fonts-ipafont-gothic\n",
            "  fonts-ipafont-mincho fonts-wqy-microhei | fonts-wqy-zenhei fonts-indic\n",
            "  mesa-utils\n",
            "The following NEW packages will be installed:\n",
            "  fonts-dejavu-core fonts-dejavu-extra libatk-wrapper-java\n",
            "  libatk-wrapper-java-jni libxxf86dga1 openjdk-17-jdk openjdk-17-jdk-headless\n",
            "  openjdk-17-jre openjdk-17-jre-headless x11-utils\n",
            "0 upgraded, 10 newly installed, 0 to remove and 49 not upgraded.\n",
            "Need to get 287 MB of archives.\n",
            "After this operation, 453 MB of additional disk space will be used.\n",
            "Get:1 http://archive.ubuntu.com/ubuntu bionic/main amd64 libxxf86dga1 amd64 2:1.1.4-1 [13.7 kB]\n",
            "Get:2 http://archive.ubuntu.com/ubuntu bionic/main amd64 fonts-dejavu-core all 2.37-1 [1,041 kB]\n",
            "Get:3 http://archive.ubuntu.com/ubuntu bionic/main amd64 fonts-dejavu-extra all 2.37-1 [1,953 kB]\n",
            "Get:4 http://archive.ubuntu.com/ubuntu bionic/main amd64 x11-utils amd64 7.7+3build1 [196 kB]\n",
            "Get:5 http://archive.ubuntu.com/ubuntu bionic/main amd64 libatk-wrapper-java all 0.33.3-20ubuntu0.1 [34.7 kB]\n",
            "Get:6 http://archive.ubuntu.com/ubuntu bionic/main amd64 libatk-wrapper-java-jni amd64 0.33.3-20ubuntu0.1 [28.3 kB]\n",
            "Get:7 http://archive.ubuntu.com/ubuntu bionic-updates/universe amd64 openjdk-17-jre-headless amd64 17.0.3+7-0ubuntu0.18.04.1 [43.5 MB]\n",
            "Get:8 http://archive.ubuntu.com/ubuntu bionic-updates/universe amd64 openjdk-17-jre amd64 17.0.3+7-0ubuntu0.18.04.1 [165 kB]\n",
            "Get:9 http://archive.ubuntu.com/ubuntu bionic-updates/universe amd64 openjdk-17-jdk-headless amd64 17.0.3+7-0ubuntu0.18.04.1 [240 MB]\n",
            "Get:10 http://archive.ubuntu.com/ubuntu bionic-updates/universe amd64 openjdk-17-jdk amd64 17.0.3+7-0ubuntu0.18.04.1 [10.6 kB]\n",
            "Fetched 287 MB in 11s (26.7 MB/s)\n",
            "Selecting previously unselected package libxxf86dga1:amd64.\n",
            "(Reading database ... 155639 files and directories currently installed.)\n",
            "Preparing to unpack .../0-libxxf86dga1_2%3a1.1.4-1_amd64.deb ...\n",
            "Unpacking libxxf86dga1:amd64 (2:1.1.4-1) ...\n",
            "Selecting previously unselected package fonts-dejavu-core.\n",
            "Preparing to unpack .../1-fonts-dejavu-core_2.37-1_all.deb ...\n",
            "Unpacking fonts-dejavu-core (2.37-1) ...\n",
            "Selecting previously unselected package fonts-dejavu-extra.\n",
            "Preparing to unpack .../2-fonts-dejavu-extra_2.37-1_all.deb ...\n",
            "Unpacking fonts-dejavu-extra (2.37-1) ...\n",
            "Selecting previously unselected package x11-utils.\n",
            "Preparing to unpack .../3-x11-utils_7.7+3build1_amd64.deb ...\n",
            "Unpacking x11-utils (7.7+3build1) ...\n",
            "Selecting previously unselected package libatk-wrapper-java.\n",
            "Preparing to unpack .../4-libatk-wrapper-java_0.33.3-20ubuntu0.1_all.deb ...\n",
            "Unpacking libatk-wrapper-java (0.33.3-20ubuntu0.1) ...\n",
            "Selecting previously unselected package libatk-wrapper-java-jni:amd64.\n",
            "Preparing to unpack .../5-libatk-wrapper-java-jni_0.33.3-20ubuntu0.1_amd64.deb ...\n",
            "Unpacking libatk-wrapper-java-jni:amd64 (0.33.3-20ubuntu0.1) ...\n",
            "Selecting previously unselected package openjdk-17-jre-headless:amd64.\n",
            "Preparing to unpack .../6-openjdk-17-jre-headless_17.0.3+7-0ubuntu0.18.04.1_amd64.deb ...\n",
            "Unpacking openjdk-17-jre-headless:amd64 (17.0.3+7-0ubuntu0.18.04.1) ...\n",
            "Selecting previously unselected package openjdk-17-jre:amd64.\n",
            "Preparing to unpack .../7-openjdk-17-jre_17.0.3+7-0ubuntu0.18.04.1_amd64.deb ...\n",
            "Unpacking openjdk-17-jre:amd64 (17.0.3+7-0ubuntu0.18.04.1) ...\n",
            "Selecting previously unselected package openjdk-17-jdk-headless:amd64.\n",
            "Preparing to unpack .../8-openjdk-17-jdk-headless_17.0.3+7-0ubuntu0.18.04.1_amd64.deb ...\n",
            "Unpacking openjdk-17-jdk-headless:amd64 (17.0.3+7-0ubuntu0.18.04.1) ...\n",
            "Selecting previously unselected package openjdk-17-jdk:amd64.\n",
            "Preparing to unpack .../9-openjdk-17-jdk_17.0.3+7-0ubuntu0.18.04.1_amd64.deb ...\n",
            "Unpacking openjdk-17-jdk:amd64 (17.0.3+7-0ubuntu0.18.04.1) ...\n",
            "Setting up fonts-dejavu-core (2.37-1) ...\n",
            "Setting up openjdk-17-jre-headless:amd64 (17.0.3+7-0ubuntu0.18.04.1) ...\n",
            "update-alternatives: using /usr/lib/jvm/java-17-openjdk-amd64/bin/java to provide /usr/bin/java (java) in auto mode\n",
            "update-alternatives: using /usr/lib/jvm/java-17-openjdk-amd64/bin/jpackage to provide /usr/bin/jpackage (jpackage) in auto mode\n",
            "update-alternatives: using /usr/lib/jvm/java-17-openjdk-amd64/bin/keytool to provide /usr/bin/keytool (keytool) in auto mode\n",
            "update-alternatives: using /usr/lib/jvm/java-17-openjdk-amd64/bin/rmiregistry to provide /usr/bin/rmiregistry (rmiregistry) in auto mode\n",
            "update-alternatives: using /usr/lib/jvm/java-17-openjdk-amd64/lib/jexec to provide /usr/bin/jexec (jexec) in auto mode\n",
            "Setting up libxxf86dga1:amd64 (2:1.1.4-1) ...\n",
            "Setting up fonts-dejavu-extra (2.37-1) ...\n",
            "Setting up openjdk-17-jre:amd64 (17.0.3+7-0ubuntu0.18.04.1) ...\n",
            "Setting up openjdk-17-jdk-headless:amd64 (17.0.3+7-0ubuntu0.18.04.1) ...\n",
            "update-alternatives: using /usr/lib/jvm/java-17-openjdk-amd64/bin/jar to provide /usr/bin/jar (jar) in auto mode\n",
            "update-alternatives: using /usr/lib/jvm/java-17-openjdk-amd64/bin/jarsigner to provide /usr/bin/jarsigner (jarsigner) in auto mode\n",
            "update-alternatives: using /usr/lib/jvm/java-17-openjdk-amd64/bin/javac to provide /usr/bin/javac (javac) in auto mode\n",
            "update-alternatives: using /usr/lib/jvm/java-17-openjdk-amd64/bin/javadoc to provide /usr/bin/javadoc (javadoc) in auto mode\n",
            "update-alternatives: using /usr/lib/jvm/java-17-openjdk-amd64/bin/javap to provide /usr/bin/javap (javap) in auto mode\n",
            "update-alternatives: using /usr/lib/jvm/java-17-openjdk-amd64/bin/jcmd to provide /usr/bin/jcmd (jcmd) in auto mode\n",
            "update-alternatives: using /usr/lib/jvm/java-17-openjdk-amd64/bin/jdb to provide /usr/bin/jdb (jdb) in auto mode\n",
            "update-alternatives: using /usr/lib/jvm/java-17-openjdk-amd64/bin/jdeprscan to provide /usr/bin/jdeprscan (jdeprscan) in auto mode\n",
            "update-alternatives: using /usr/lib/jvm/java-17-openjdk-amd64/bin/jdeps to provide /usr/bin/jdeps (jdeps) in auto mode\n",
            "update-alternatives: using /usr/lib/jvm/java-17-openjdk-amd64/bin/jfr to provide /usr/bin/jfr (jfr) in auto mode\n",
            "update-alternatives: using /usr/lib/jvm/java-17-openjdk-amd64/bin/jimage to provide /usr/bin/jimage (jimage) in auto mode\n",
            "update-alternatives: using /usr/lib/jvm/java-17-openjdk-amd64/bin/jinfo to provide /usr/bin/jinfo (jinfo) in auto mode\n",
            "update-alternatives: using /usr/lib/jvm/java-17-openjdk-amd64/bin/jlink to provide /usr/bin/jlink (jlink) in auto mode\n",
            "update-alternatives: using /usr/lib/jvm/java-17-openjdk-amd64/bin/jmap to provide /usr/bin/jmap (jmap) in auto mode\n",
            "update-alternatives: using /usr/lib/jvm/java-17-openjdk-amd64/bin/jmod to provide /usr/bin/jmod (jmod) in auto mode\n",
            "update-alternatives: using /usr/lib/jvm/java-17-openjdk-amd64/bin/jps to provide /usr/bin/jps (jps) in auto mode\n",
            "update-alternatives: using /usr/lib/jvm/java-17-openjdk-amd64/bin/jrunscript to provide /usr/bin/jrunscript (jrunscript) in auto mode\n",
            "update-alternatives: using /usr/lib/jvm/java-17-openjdk-amd64/bin/jshell to provide /usr/bin/jshell (jshell) in auto mode\n",
            "update-alternatives: using /usr/lib/jvm/java-17-openjdk-amd64/bin/jstack to provide /usr/bin/jstack (jstack) in auto mode\n",
            "update-alternatives: using /usr/lib/jvm/java-17-openjdk-amd64/bin/jstat to provide /usr/bin/jstat (jstat) in auto mode\n",
            "update-alternatives: using /usr/lib/jvm/java-17-openjdk-amd64/bin/jstatd to provide /usr/bin/jstatd (jstatd) in auto mode\n",
            "update-alternatives: using /usr/lib/jvm/java-17-openjdk-amd64/bin/serialver to provide /usr/bin/serialver (serialver) in auto mode\n",
            "update-alternatives: using /usr/lib/jvm/java-17-openjdk-amd64/bin/jhsdb to provide /usr/bin/jhsdb (jhsdb) in auto mode\n",
            "Setting up x11-utils (7.7+3build1) ...\n",
            "Setting up openjdk-17-jdk:amd64 (17.0.3+7-0ubuntu0.18.04.1) ...\n",
            "update-alternatives: using /usr/lib/jvm/java-17-openjdk-amd64/bin/jconsole to provide /usr/bin/jconsole (jconsole) in auto mode\n",
            "Setting up libatk-wrapper-java (0.33.3-20ubuntu0.1) ...\n",
            "Setting up libatk-wrapper-java-jni:amd64 (0.33.3-20ubuntu0.1) ...\n",
            "Processing triggers for man-db (2.8.3-2ubuntu0.1) ...\n",
            "Processing triggers for hicolor-icon-theme (0.17-2) ...\n",
            "Processing triggers for fontconfig (2.12.6-0ubuntu2) ...\n",
            "Processing triggers for mime-support (3.60ubuntu1) ...\n",
            "Processing triggers for libc-bin (2.27-3ubuntu1.3) ...\n",
            "/sbin/ldconfig.real: /usr/local/lib/python3.7/dist-packages/ideep4py/lib/libmkldnn.so.0 is not a symbolic link\n",
            "\n"
          ]
        }
      ]
    },
    {
      "cell_type": "code",
      "execution_count": null,
      "metadata": {
        "id": "By3tiUWgbpzV",
        "colab": {
          "base_uri": "https://localhost:8080/"
        },
        "outputId": "4667c830-da79-43ea-eb89-76da0610359d"
      },
      "outputs": [
        {
          "output_type": "stream",
          "name": "stdout",
          "text": [
            "Looking in indexes: https://pypi.org/simple, https://us-python.pkg.dev/colab-wheels/public/simple/\n",
            "Collecting unified-planning[enhsp,fast-downward,pyperplan,tamer]\n",
            "  Downloading unified_planning-0.4.1-py3-none-any.whl (230 kB)\n",
            "\u001b[K     |████████████████████████████████| 230 kB 15.3 MB/s \n",
            "\u001b[?25hRequirement already satisfied: networkx in /usr/local/lib/python3.7/dist-packages (from unified-planning[enhsp,fast-downward,pyperplan,tamer]) (2.6.3)\n",
            "Requirement already satisfied: pyparsing in /usr/local/lib/python3.7/dist-packages (from unified-planning[enhsp,fast-downward,pyperplan,tamer]) (3.0.9)\n",
            "Collecting up-tamer==0.2.0\n",
            "  Downloading up_tamer-0.2.0-py3-none-any.whl (12 kB)\n",
            "Collecting up-fast-downward==0.0.2\n",
            "  Downloading up_fast_downward-0.0.2-py3-none-manylinux_2_17_x86_64.manylinux2014_x86_64.whl (52.2 MB)\n",
            "\u001b[K     |████████████████████████████████| 52.2 MB 139 kB/s \n",
            "\u001b[?25hCollecting up-pyperplan==0.2.0\n",
            "  Downloading up_pyperplan-0.2.0-py3-none-any.whl (11 kB)\n",
            "Collecting up-enhsp==0.0.4\n",
            "  Downloading up_enhsp-0.0.4-py3-none-any.whl (25.9 MB)\n",
            "\u001b[K     |████████████████████████████████| 25.9 MB 1.5 MB/s \n",
            "\u001b[?25hCollecting pyperplan==2.1\n",
            "  Downloading pyperplan-2.1-py2.py3-none-any.whl (69 kB)\n",
            "\u001b[K     |████████████████████████████████| 69 kB 8.0 MB/s \n",
            "\u001b[?25hRequirement already satisfied: wheel in /usr/local/lib/python3.7/dist-packages (from pyperplan==2.1->up-pyperplan==0.2.0->unified-planning[enhsp,fast-downward,pyperplan,tamer]) (0.37.1)\n",
            "Collecting pytamer==0.1.1\n",
            "  Downloading pytamer-0.1.1-cp37-cp37m-manylinux_2_27_x86_64.whl (2.2 MB)\n",
            "\u001b[K     |████████████████████████████████| 2.2 MB 46.9 MB/s \n",
            "\u001b[?25hInstalling collected packages: pytamer, pyperplan, up-tamer, up-pyperplan, up-fast-downward, up-enhsp, unified-planning\n",
            "Successfully installed pyperplan-2.1 pytamer-0.1.1 unified-planning-0.4.1 up-enhsp-0.0.4 up-fast-downward-0.0.2 up-pyperplan-0.2.0 up-tamer-0.2.0\n"
          ]
        }
      ],
      "source": [
        "!pip install unified-planning[pyperplan,tamer,enhsp,fast-downward]"
      ]
    },
    {
      "cell_type": "markdown",
      "source": [
        "# Creating a simple robot moving problem\n",
        "Suppose we are given a graph (here generated randomly) of locations each with an associated geometric position..."
      ],
      "metadata": {
        "id": "8eBPdubpesqn"
      }
    },
    {
      "cell_type": "code",
      "source": [
        "import matplotlib.pyplot as plt\n",
        "import networkx as nx\n",
        "\n",
        "# Use seed when creating the graph for reproducibility\n",
        "location_map = nx.soft_random_geometric_graph([f'loc_{i}' for i in range(15)], 0.5, seed=2)\n",
        "# Position is stored as node attribute data for soft_random_geometric_graph\n",
        "pos = nx.get_node_attributes(location_map, \"pos\")\n",
        "\n",
        "# Show the graph\n",
        "plt.figure(figsize=(8, 8))\n",
        "nx.draw_networkx_edges(location_map, pos, alpha=0.4)\n",
        "nx.draw_networkx_nodes(\n",
        "    location_map,\n",
        "    pos,\n",
        "    node_size=1800\n",
        ")\n",
        "nx.draw_networkx_labels(location_map, pos)\n",
        "plt.show()"
      ],
      "metadata": {
        "id": "v-Rjo4WQcZ7m",
        "colab": {
          "base_uri": "https://localhost:8080/",
          "height": 466
        },
        "outputId": "3989be2f-53f1-4c91-deb7-321f9944defc"
      },
      "execution_count": null,
      "outputs": [
        {
          "output_type": "display_data",
          "data": {
            "text/plain": [
              "<Figure size 576x576 with 1 Axes>"
            ],
            "image/png": "[encoded data removed]"
          },
          "metadata": {}
        }
      ]
    },
    {
      "cell_type": "markdown",
      "source": [
        "Suppose our robot is initially in location `loc_0` and wants go go in location `loc_10`"
      ],
      "metadata": {
        "id": "KgpQyAgJwUnO"
      }
    },
    {
      "cell_type": "code",
      "source": [
        "# Saving initial and goal location names in python variables\n",
        "INIT = 'loc_1'  #loc_2  loc_3\n",
        "DEST = 'loc_3'"
      ],
      "metadata": {
        "id": "6ypXvPAdyNHs"
      },
      "execution_count": null,
      "outputs": []
    },
    {
      "cell_type": "code",
      "source": [
        "# disk_3 is the biggest\n",
        "num_disks = 3\n",
        "\n",
        "Items_list = ['loc_1', 'loc_2', 'loc_3']\n",
        "for i in range(num_disks):\n",
        "  Items_list.append(f'disk_{i+1}')\n",
        "print(Items_list)"
      ],
      "metadata": {
        "colab": {
          "base_uri": "https://localhost:8080/"
        },
        "id": "hkyWysTbJst5",
        "outputId": "5e9e95d0-a8d7-4468-dc25-d581c74ecb9a"
      },
      "execution_count": null,
      "outputs": [
        {
          "output_type": "stream",
          "name": "stdout",
          "text": [
            "['loc_1', 'loc_2', 'loc_3', 'disk_1', 'disk_2', 'disk_3']\n"
          ]
        }
      ]
    },
    {
      "cell_type": "markdown",
      "source": [
        "## Classical planning formulation\n",
        "\n",
        "We can easily and **programmatically** create a classical planning problem directly from the graph data structure using the UP primitives"
      ],
      "metadata": {
        "id": "lTvODFblwntY"
      }
    },
    {
      "cell_type": "code",
      "source": [
        "from unified_planning.shortcuts import *\n",
        "\n",
        "# First, we declare a \"Location\" type \n",
        "#Location = UserType('Location')\n",
        "Item = UserType('Item')\n",
        "\n",
        "# We create a new problem\n",
        "problem = Problem('towersHanoi')\n",
        "\n",
        "# Declare the fluents:\n",
        "# - `robot_at` is a predicate modeling the robot position,\n",
        "# - `connected` is a static fluent for modeling the graph connectivity relation\n",
        "is_disk = Fluent('is_disk', BoolType(), disk_i=Item)\n",
        "clear = Fluent('clear', BoolType(), disk_i=Item)\n",
        "on = Fluent('on', BoolType(), disk_i=Item, disk_pos=Item)\n",
        "smaller = Fluent('smaller', BoolType(), disk_i=Item, disk_j=Item)\n",
        "#robot_at = Fluent('robot_at', BoolType(), position=Location)\n",
        "#connected = Fluent('connected', BoolType(), l_from=Location, l_to=Location)\n",
        "\n",
        "# Add the fluents to the problem, a Fluent can be resused in many problems\n",
        "# The default values are optional and can be any value (not forcing closed-world assumption) \n",
        "#problem.add_fluent(robot_at, default_initial_value=False)\n",
        "#problem.add_fluent(connected, default_initial_value=False)\n",
        "problem.add_fluent(is_disk, default_initial_value=False)\n",
        "problem.add_fluent(clear, default_initial_value=False)\n",
        "problem.add_fluent(on, default_initial_value=False)\n",
        "problem.add_fluent(smaller, default_initial_value=False)\n",
        "\n",
        "# Create a simple `move` action  \n",
        "move = InstantaneousAction('move', disk=Item, l_from=Item, l_to=Item)\n",
        "disk = move.parameter('disk')\n",
        "l_from = move.parameter('l_from')\n",
        "l_to = move.parameter('l_to')\n",
        "move.add_precondition(is_disk(disk))\n",
        "move.add_precondition(smaller(disk, l_to))\n",
        "move.add_precondition(on(disk, l_from))\n",
        "move.add_precondition(clear(disk))\n",
        "move.add_precondition(clear(l_to))\n",
        "move.add_effect(clear(l_from), True)\n",
        "move.add_effect(on(disk, l_to), True)\n",
        "move.add_effect(on(disk, l_from), False)\n",
        "move.add_effect(clear(l_to), False)\n",
        "problem.add_action(move)\n",
        "\n",
        "# Programmatically create a map from location name to a new `Object` of type `Location`\n",
        "items = {str(i) : Object(str(i), Item) for i in Items_list}\n",
        "#locations = {str(l) : Object(str(l), Location) for l in location_map.nodes}\n",
        "\n",
        "# Add all the objects to the problem\n",
        "problem.add_objects(items.values())\n",
        "\n",
        "# Setting the initial location\n",
        "#problem.set_initial_value(robot_at(locations[INIT]), True)\n",
        "for i in range(num_disks):\n",
        "  problem.set_initial_value(is_disk(items[f'disk_{i+1}']), True)\n",
        "  problem.set_initial_value(on(items[f'disk_{i+1}'], items['loc_1']), True)\n",
        "  if i!=num_disks-1:\n",
        "    problem.set_initial_value(on(items[f'disk_{i+1}'], items[f'disk_{i+2}']), True)\n",
        "    for j in range(i+1, num_disks):\n",
        "      problem.set_initial_value(smaller(items[f'disk_{i+1}'], items[f'disk_{j+1}']), True)\n",
        "\n",
        "  for k in range(3): #3 is the num_locs\n",
        "    problem.set_initial_value(smaller(items[f'disk_{i+1}'], items[f'loc_{k+1}']), True)\n",
        "\n",
        "problem.set_initial_value(clear(items['disk_1']), True)\n",
        "problem.set_initial_value(clear(items['loc_2']), True)\n",
        "problem.set_initial_value(clear(items['loc_3']), True)\n",
        "\n",
        "\n",
        "\n",
        "# Initializing the connectivity relations by iterating over the graph edges\n",
        "#for (f, t) in location_map.edges:\n",
        "#  problem.set_initial_value(connected(locations[str(f)], locations[str(t)]), True)\n",
        "#  problem.set_initial_value(connected(locations[str(t)], locations[str(f)]), True)\n",
        "\n",
        "# Setting the goal\n",
        "for i in range(num_disks-1):\n",
        "  problem.add_goal(on(items[f'disk_{i+1}'], items[f'disk_{i+2}']))\n",
        "problem.add_goal(on(items[f'disk_{num_disks}'], items[DEST]))\n",
        "\n",
        "# Printing the problem data structure in human-readable form\n",
        "# (We can also print in PDDL and ANML)\n",
        "print(problem)"
      ],
      "metadata": {
        "id": "I3_U7cp2ukgy",
        "colab": {
          "base_uri": "https://localhost:8080/"
        },
        "outputId": "99d09fc7-2807-496f-87de-21bd6ec4e3e1"
      },
      "execution_count": null,
      "outputs": [
        {
          "output_type": "stream",
          "name": "stdout",
          "text": [
            "problem name = robot\n",
            "\n",
            "types = [Location]\n",
            "\n",
            "fluents = [\n",
            "  bool robot_at[position=Location]\n",
            "  bool connected[l_from=Location, l_to=Location]\n",
            "]\n",
            "\n",
            "actions = [\n",
            "  action move(Location l_from, Location l_to) {\n",
            "    preconditions = [\n",
            "      robot_at(l_from)\n",
            "      connected(l_from, l_to)\n",
            "    ]\n",
            "    effects = [\n",
            "      robot_at(l_from) := false\n",
            "      robot_at(l_to) := true\n",
            "    ]\n",
            "    simulated effect = None\n",
            "  }\n",
            "]\n",
            "\n",
            "objects = [\n",
            "  Location: [loc_0, loc_1, loc_2, loc_3, loc_4, loc_5, loc_6, loc_7, loc_8, loc_9, loc_10, loc_11, loc_12, loc_13, loc_14]\n",
            "]\n",
            "\n",
            "initial fluents default = [\n",
            "  bool robot_at[position=Location] := false\n",
            "  bool connected[l_from=Location, l_to=Location] := false\n",
            "]\n",
            "\n",
            "initial values = [\n",
            "  robot_at(loc_0) := true\n",
            "  connected(loc_0, loc_2) := true\n",
            "  connected(loc_2, loc_0) := true\n",
            "  connected(loc_0, loc_4) := true\n",
            "  connected(loc_4, loc_0) := true\n",
            "  connected(loc_0, loc_7) := true\n",
            "  connected(loc_7, loc_0) := true\n",
            "  connected(loc_1, loc_9) := true\n",
            "  connected(loc_9, loc_1) := true\n",
            "  connected(loc_1, loc_10) := true\n",
            "  connected(loc_10, loc_1) := true\n",
            "  connected(loc_1, loc_14) := true\n",
            "  connected(loc_14, loc_1) := true\n",
            "  connected(loc_2, loc_4) := true\n",
            "  connected(loc_4, loc_2) := true\n",
            "  connected(loc_2, loc_8) := true\n",
            "  connected(loc_8, loc_2) := true\n",
            "  connected(loc_3, loc_4) := true\n",
            "  connected(loc_4, loc_3) := true\n",
            "  connected(loc_3, loc_5) := true\n",
            "  connected(loc_5, loc_3) := true\n",
            "  connected(loc_3, loc_6) := true\n",
            "  connected(loc_6, loc_3) := true\n",
            "  connected(loc_3, loc_8) := true\n",
            "  connected(loc_8, loc_3) := true\n",
            "  connected(loc_3, loc_9) := true\n",
            "  connected(loc_9, loc_3) := true\n",
            "  connected(loc_3, loc_11) := true\n",
            "  connected(loc_11, loc_3) := true\n",
            "  connected(loc_4, loc_5) := true\n",
            "  connected(loc_5, loc_4) := true\n",
            "  connected(loc_4, loc_7) := true\n",
            "  connected(loc_7, loc_4) := true\n",
            "  connected(loc_4, loc_11) := true\n",
            "  connected(loc_11, loc_4) := true\n",
            "  connected(loc_4, loc_12) := true\n",
            "  connected(loc_12, loc_4) := true\n",
            "  connected(loc_5, loc_6) := true\n",
            "  connected(loc_6, loc_5) := true\n",
            "  connected(loc_5, loc_9) := true\n",
            "  connected(loc_9, loc_5) := true\n",
            "  connected(loc_5, loc_11) := true\n",
            "  connected(loc_11, loc_5) := true\n",
            "  connected(loc_5, loc_13) := true\n",
            "  connected(loc_13, loc_5) := true\n",
            "  connected(loc_6, loc_9) := true\n",
            "  connected(loc_9, loc_6) := true\n",
            "  connected(loc_6, loc_11) := true\n",
            "  connected(loc_11, loc_6) := true\n",
            "  connected(loc_6, loc_13) := true\n",
            "  connected(loc_13, loc_6) := true\n",
            "  connected(loc_7, loc_12) := true\n",
            "  connected(loc_12, loc_7) := true\n",
            "  connected(loc_9, loc_10) := true\n",
            "  connected(loc_10, loc_9) := true\n",
            "  connected(loc_9, loc_11) := true\n",
            "  connected(loc_11, loc_9) := true\n",
            "  connected(loc_9, loc_13) := true\n",
            "  connected(loc_13, loc_9) := true\n",
            "  connected(loc_9, loc_14) := true\n",
            "  connected(loc_14, loc_9) := true\n",
            "  connected(loc_10, loc_14) := true\n",
            "  connected(loc_14, loc_10) := true\n",
            "  connected(loc_11, loc_13) := true\n",
            "  connected(loc_13, loc_11) := true\n",
            "  connected(loc_11, loc_14) := true\n",
            "  connected(loc_14, loc_11) := true\n",
            "]\n",
            "\n",
            "goals = [\n",
            "  robot_at(loc_10)\n",
            "]\n",
            "\n",
            "\n"
          ]
        }
      ]
    },
    {
      "cell_type": "markdown",
      "source": [
        "### Solving with classical planners\n",
        "\n",
        "We can now invoke the classical planners we have installed on our machine in a uniform and convenient way"
      ],
      "metadata": {
        "id": "rcUzGZ38DyiS"
      }
    },
    {
      "cell_type": "code",
      "source": [
        "from unified_planning.engines import PlanGenerationResultStatus\n",
        "\n",
        "for planner_name in ['pyperplan', 'fast-downward']:\n",
        "  with OneshotPlanner(name=planner_name) as planner:\n",
        "    result = planner.solve(problem)\n",
        "    if result.status == PlanGenerationResultStatus.SOLVED_SATISFICING:\n",
        "      print(f'{planner_name} found a plan.\\nThe plan is: {result.plan}')\n",
        "    else:\n",
        "      print(\"No plan found.\")"
      ],
      "metadata": {
        "id": "3J4U1FFOvBMu",
        "colab": {
          "base_uri": "https://localhost:8080/"
        },
        "outputId": "ee13baaa-c26e-45a8-f4d4-3c77389e7bb8"
      },
      "execution_count": null,
      "outputs": [
        {
          "output_type": "stream",
          "name": "stdout",
          "text": [
            "\u001b[96m\u001b[1mNOTE: To disable printing of planning engine credits, add this line to your code: `up.shortcuts.get_env().credits_stream = None`\n",
            "\u001b[0m\u001b[96m  *** Credits ***\n",
            "\u001b[0m\u001b[96m  * In operation mode `OneshotPlanner` at line 4 of `<ipython-input-6-62254759c4f6>`, \u001b[0m\u001b[96myou are using the following planning engine:\n",
            "\u001b[0m\u001b[96m  * Engine name: pyperplan\n",
            "  * Developers:  Artificial Intelligence Group - University of Basel\n",
            "\u001b[0m\u001b[96m  * Description: \u001b[0m\u001b[96mPyperplan is a lightweight STRIPS planner written in Python.\u001b[0m\u001b[96m\n",
            "\u001b[0m\u001b[96m\n",
            "\u001b[0mpyperplan found a plan.\n",
            "The plan is: [move(loc_0, loc_4), move(loc_4, loc_5), move(loc_5, loc_9), move(loc_9, loc_10)]\n",
            "\u001b[96m  *** Credits ***\n",
            "\u001b[0m\u001b[96m  * In operation mode `OneshotPlanner` at line 4 of `<ipython-input-6-62254759c4f6>`, \u001b[0m\u001b[96myou are using the following planning engine:\n",
            "\u001b[0m\u001b[96m  * Engine name: Fast Downward\n",
            "  * Developers:  Uni Basel team and contributors (cf. https://github.com/aibasel/downward/blob/main/README.md)\n",
            "\u001b[0m\u001b[96m  * Description: \u001b[0m\u001b[96mFast Downward is a domain-independent classical planning system.\u001b[0m\u001b[96m\n",
            "\u001b[0m\u001b[96m\n",
            "\u001b[0mfast-downward found a plan.\n",
            "The plan is: [move(loc_0, loc_4), move(loc_4, loc_11), move(loc_11, loc_9), move(loc_9, loc_10)]\n"
          ]
        }
      ]
    },
    {
      "cell_type": "markdown",
      "source": [
        "## Extend with numerical fluents\n",
        "\n",
        "We can easily extend our problem adding numeric fluents"
      ],
      "metadata": {
        "id": "vFr2iYPwD-gV"
      }
    },
    {
      "cell_type": "code",
      "source": [
        "import math\n",
        "from fractions import Fraction\n",
        "\n",
        "# A simple function that associates a battery cost to each edge\n",
        "def battery_consumption(loc_from, loc_to):\n",
        "  pos = nx.get_node_attributes(location_map, \"pos\")\n",
        "  fx, fy = pos[loc_from]\n",
        "  tx, ty = pos[loc_to]\n",
        "  distance = math.sqrt((fx - tx)**2 + (fy - ty)**2)\n",
        "  return int(5 + distance * 30 + 2)\n",
        "\n",
        "# Adding more fluents:\n",
        "# - `battery` to model the residual amount of battery\n",
        "# - `consumption` to model the battery consumption on each edge \n",
        "battery = Fluent('battery', RealType(0, 100))\n",
        "consumption = Fluent('consumption', RealType(), l_from=Location, l_to=Location)\n",
        "\n",
        "# Adding the fluents to the problem\n",
        "problem.add_fluent(battery)\n",
        "problem.add_fluent(consumption, default_initial_value=-1)\n",
        "\n",
        "# Extend the `move` action\n",
        "move.add_precondition(GE(consumption(l_from, l_to), 0))\n",
        "move.add_precondition(GE(battery, consumption(l_from, l_to)))\n",
        "move.add_effect(battery, Minus(battery, consumption(l_from, l_to)))\n",
        "\n",
        "# Setting the initial state of the new fluents\n",
        "problem.set_initial_value(battery, 100)\n",
        "\n",
        "for (f, t) in location_map.edges:\n",
        "  problem.set_initial_value(consumption(locations[str(f)], locations[str(t)]), battery_consumption(f, t))\n",
        "  problem.set_initial_value(consumption(locations[str(t)], locations[str(f)]), battery_consumption(t, f))\n",
        "\n",
        "print(problem)"
      ],
      "metadata": {
        "id": "44OOPetTe45e",
        "colab": {
          "base_uri": "https://localhost:8080/"
        },
        "outputId": "a2794a74-5973-4ed5-dd0e-1591f7240004"
      },
      "execution_count": null,
      "outputs": [
        {
          "output_type": "stream",
          "name": "stdout",
          "text": [
            "problem name = robot\n",
            "\n",
            "types = [Location]\n",
            "\n",
            "fluents = [\n",
            "  bool robot_at[position=Location]\n",
            "  bool connected[l_from=Location, l_to=Location]\n",
            "  real[0, 100] battery\n",
            "  real consumption[l_from=Location, l_to=Location]\n",
            "]\n",
            "\n",
            "actions = [\n",
            "  action move(Location l_from, Location l_to) {\n",
            "    preconditions = [\n",
            "      robot_at(l_from)\n",
            "      connected(l_from, l_to)\n",
            "      (0 <= consumption(l_from, l_to))\n",
            "      (consumption(l_from, l_to) <= battery)\n",
            "    ]\n",
            "    effects = [\n",
            "      robot_at(l_from) := false\n",
            "      robot_at(l_to) := true\n",
            "      battery := (battery - consumption(l_from, l_to))\n",
            "    ]\n",
            "    simulated effect = None\n",
            "  }\n",
            "]\n",
            "\n",
            "objects = [\n",
            "  Location: [loc_0, loc_1, loc_2, loc_3, loc_4, loc_5, loc_6, loc_7, loc_8, loc_9, loc_10, loc_11, loc_12, loc_13, loc_14]\n",
            "]\n",
            "\n",
            "initial fluents default = [\n",
            "  bool robot_at[position=Location] := false\n",
            "  bool connected[l_from=Location, l_to=Location] := false\n",
            "  real consumption[l_from=Location, l_to=Location] := -1\n",
            "]\n",
            "\n",
            "initial values = [\n",
            "  robot_at(loc_0) := true\n",
            "  connected(loc_0, loc_2) := true\n",
            "  connected(loc_2, loc_0) := true\n",
            "  connected(loc_0, loc_4) := true\n",
            "  connected(loc_4, loc_0) := true\n",
            "  connected(loc_0, loc_7) := true\n",
            "  connected(loc_7, loc_0) := true\n",
            "  connected(loc_1, loc_9) := true\n",
            "  connected(loc_9, loc_1) := true\n",
            "  connected(loc_1, loc_10) := true\n",
            "  connected(loc_10, loc_1) := true\n",
            "  connected(loc_1, loc_14) := true\n",
            "  connected(loc_14, loc_1) := true\n",
            "  connected(loc_2, loc_4) := true\n",
            "  connected(loc_4, loc_2) := true\n",
            "  connected(loc_2, loc_8) := true\n",
            "  connected(loc_8, loc_2) := true\n",
            "  connected(loc_3, loc_4) := true\n",
            "  connected(loc_4, loc_3) := true\n",
            "  connected(loc_3, loc_5) := true\n",
            "  connected(loc_5, loc_3) := true\n",
            "  connected(loc_3, loc_6) := true\n",
            "  connected(loc_6, loc_3) := true\n",
            "  connected(loc_3, loc_8) := true\n",
            "  connected(loc_8, loc_3) := true\n",
            "  connected(loc_3, loc_9) := true\n",
            "  connected(loc_9, loc_3) := true\n",
            "  connected(loc_3, loc_11) := true\n",
            "  connected(loc_11, loc_3) := true\n",
            "  connected(loc_4, loc_5) := true\n",
            "  connected(loc_5, loc_4) := true\n",
            "  connected(loc_4, loc_7) := true\n",
            "  connected(loc_7, loc_4) := true\n",
            "  connected(loc_4, loc_11) := true\n",
            "  connected(loc_11, loc_4) := true\n",
            "  connected(loc_4, loc_12) := true\n",
            "  connected(loc_12, loc_4) := true\n",
            "  connected(loc_5, loc_6) := true\n",
            "  connected(loc_6, loc_5) := true\n",
            "  connected(loc_5, loc_9) := true\n",
            "  connected(loc_9, loc_5) := true\n",
            "  connected(loc_5, loc_11) := true\n",
            "  connected(loc_11, loc_5) := true\n",
            "  connected(loc_5, loc_13) := true\n",
            "  connected(loc_13, loc_5) := true\n",
            "  connected(loc_6, loc_9) := true\n",
            "  connected(loc_9, loc_6) := true\n",
            "  connected(loc_6, loc_11) := true\n",
            "  connected(loc_11, loc_6) := true\n",
            "  connected(loc_6, loc_13) := true\n",
            "  connected(loc_13, loc_6) := true\n",
            "  connected(loc_7, loc_12) := true\n",
            "  connected(loc_12, loc_7) := true\n",
            "  connected(loc_9, loc_10) := true\n",
            "  connected(loc_10, loc_9) := true\n",
            "  connected(loc_9, loc_11) := true\n",
            "  connected(loc_11, loc_9) := true\n",
            "  connected(loc_9, loc_13) := true\n",
            "  connected(loc_13, loc_9) := true\n",
            "  connected(loc_9, loc_14) := true\n",
            "  connected(loc_14, loc_9) := true\n",
            "  connected(loc_10, loc_14) := true\n",
            "  connected(loc_14, loc_10) := true\n",
            "  connected(loc_11, loc_13) := true\n",
            "  connected(loc_13, loc_11) := true\n",
            "  connected(loc_11, loc_14) := true\n",
            "  connected(loc_14, loc_11) := true\n",
            "  robot_at(loc_1) := false\n",
            "  robot_at(loc_2) := false\n",
            "  robot_at(loc_3) := false\n",
            "  robot_at(loc_4) := false\n",
            "  robot_at(loc_5) := false\n",
            "  robot_at(loc_6) := false\n",
            "  robot_at(loc_7) := false\n",
            "  robot_at(loc_8) := false\n",
            "  robot_at(loc_9) := false\n",
            "  robot_at(loc_10) := false\n",
            "  robot_at(loc_11) := false\n",
            "  robot_at(loc_12) := false\n",
            "  robot_at(loc_13) := false\n",
            "  robot_at(loc_14) := false\n",
            "  connected(loc_0, loc_0) := false\n",
            "  connected(loc_1, loc_0) := false\n",
            "  connected(loc_3, loc_0) := false\n",
            "  connected(loc_5, loc_0) := false\n",
            "  connected(loc_6, loc_0) := false\n",
            "  connected(loc_8, loc_0) := false\n",
            "  connected(loc_9, loc_0) := false\n",
            "  connected(loc_10, loc_0) := false\n",
            "  connected(loc_11, loc_0) := false\n",
            "  connected(loc_12, loc_0) := false\n",
            "  connected(loc_13, loc_0) := false\n",
            "  connected(loc_14, loc_0) := false\n",
            "  connected(loc_0, loc_1) := false\n",
            "  connected(loc_1, loc_1) := false\n",
            "  connected(loc_2, loc_1) := false\n",
            "  connected(loc_3, loc_1) := false\n",
            "  connected(loc_4, loc_1) := false\n",
            "  connected(loc_5, loc_1) := false\n",
            "  connected(loc_6, loc_1) := false\n",
            "  connected(loc_7, loc_1) := false\n",
            "  connected(loc_8, loc_1) := false\n",
            "  connected(loc_11, loc_1) := false\n",
            "  connected(loc_12, loc_1) := false\n",
            "  connected(loc_13, loc_1) := false\n",
            "  connected(loc_1, loc_2) := false\n",
            "  connected(loc_2, loc_2) := false\n",
            "  connected(loc_3, loc_2) := false\n",
            "  connected(loc_5, loc_2) := false\n",
            "  connected(loc_6, loc_2) := false\n",
            "  connected(loc_7, loc_2) := false\n",
            "  connected(loc_9, loc_2) := false\n",
            "  connected(loc_10, loc_2) := false\n",
            "  connected(loc_11, loc_2) := false\n",
            "  connected(loc_12, loc_2) := false\n",
            "  connected(loc_13, loc_2) := false\n",
            "  connected(loc_14, loc_2) := false\n",
            "  connected(loc_0, loc_3) := false\n",
            "  connected(loc_1, loc_3) := false\n",
            "  connected(loc_2, loc_3) := false\n",
            "  connected(loc_3, loc_3) := false\n",
            "  connected(loc_7, loc_3) := false\n",
            "  connected(loc_10, loc_3) := false\n",
            "  connected(loc_12, loc_3) := false\n",
            "  connected(loc_13, loc_3) := false\n",
            "  connected(loc_14, loc_3) := false\n",
            "  connected(loc_1, loc_4) := false\n",
            "  connected(loc_4, loc_4) := false\n",
            "  connected(loc_6, loc_4) := false\n",
            "  connected(loc_8, loc_4) := false\n",
            "  connected(loc_9, loc_4) := false\n",
            "  connected(loc_10, loc_4) := false\n",
            "  connected(loc_13, loc_4) := false\n",
            "  connected(loc_14, loc_4) := false\n",
            "  connected(loc_0, loc_5) := false\n",
            "  connected(loc_1, loc_5) := false\n",
            "  connected(loc_2, loc_5) := false\n",
            "  connected(loc_5, loc_5) := false\n",
            "  connected(loc_7, loc_5) := false\n",
            "  connected(loc_8, loc_5) := false\n",
            "  connected(loc_10, loc_5) := false\n",
            "  connected(loc_12, loc_5) := false\n",
            "  connected(loc_14, loc_5) := false\n",
            "  connected(loc_0, loc_6) := false\n",
            "  connected(loc_1, loc_6) := false\n",
            "  connected(loc_2, loc_6) := false\n",
            "  connected(loc_4, loc_6) := false\n",
            "  connected(loc_6, loc_6) := false\n",
            "  connected(loc_7, loc_6) := false\n",
            "  connected(loc_8, loc_6) := false\n",
            "  connected(loc_10, loc_6) := false\n",
            "  connected(loc_12, loc_6) := false\n",
            "  connected(loc_14, loc_6) := false\n",
            "  connected(loc_1, loc_7) := false\n",
            "  connected(loc_2, loc_7) := false\n",
            "  connected(loc_3, loc_7) := false\n",
            "  connected(loc_5, loc_7) := false\n",
            "  connected(loc_6, loc_7) := false\n",
            "  connected(loc_7, loc_7) := false\n",
            "  connected(loc_8, loc_7) := false\n",
            "  connected(loc_9, loc_7) := false\n",
            "  connected(loc_10, loc_7) := false\n",
            "  connected(loc_11, loc_7) := false\n",
            "  connected(loc_13, loc_7) := false\n",
            "  connected(loc_14, loc_7) := false\n",
            "  connected(loc_0, loc_8) := false\n",
            "  connected(loc_1, loc_8) := false\n",
            "  connected(loc_4, loc_8) := false\n",
            "  connected(loc_5, loc_8) := false\n",
            "  connected(loc_6, loc_8) := false\n",
            "  connected(loc_7, loc_8) := false\n",
            "  connected(loc_8, loc_8) := false\n",
            "  connected(loc_9, loc_8) := false\n",
            "  connected(loc_10, loc_8) := false\n",
            "  connected(loc_11, loc_8) := false\n",
            "  connected(loc_12, loc_8) := false\n",
            "  connected(loc_13, loc_8) := false\n",
            "  connected(loc_14, loc_8) := false\n",
            "  connected(loc_0, loc_9) := false\n",
            "  connected(loc_2, loc_9) := false\n",
            "  connected(loc_4, loc_9) := false\n",
            "  connected(loc_7, loc_9) := false\n",
            "  connected(loc_8, loc_9) := false\n",
            "  connected(loc_9, loc_9) := false\n",
            "  connected(loc_12, loc_9) := false\n",
            "  connected(loc_0, loc_10) := false\n",
            "  connected(loc_2, loc_10) := false\n",
            "  connected(loc_3, loc_10) := false\n",
            "  connected(loc_4, loc_10) := false\n",
            "  connected(loc_5, loc_10) := false\n",
            "  connected(loc_6, loc_10) := false\n",
            "  connected(loc_7, loc_10) := false\n",
            "  connected(loc_8, loc_10) := false\n",
            "  connected(loc_10, loc_10) := false\n",
            "  connected(loc_11, loc_10) := false\n",
            "  connected(loc_12, loc_10) := false\n",
            "  connected(loc_13, loc_10) := false\n",
            "  connected(loc_0, loc_11) := false\n",
            "  connected(loc_1, loc_11) := false\n",
            "  connected(loc_2, loc_11) := false\n",
            "  connected(loc_7, loc_11) := false\n",
            "  connected(loc_8, loc_11) := false\n",
            "  connected(loc_10, loc_11) := false\n",
            "  connected(loc_11, loc_11) := false\n",
            "  connected(loc_12, loc_11) := false\n",
            "  connected(loc_0, loc_12) := false\n",
            "  connected(loc_1, loc_12) := false\n",
            "  connected(loc_2, loc_12) := false\n",
            "  connected(loc_3, loc_12) := false\n",
            "  connected(loc_5, loc_12) := false\n",
            "  connected(loc_6, loc_12) := false\n",
            "  connected(loc_8, loc_12) := false\n",
            "  connected(loc_9, loc_12) := false\n",
            "  connected(loc_10, loc_12) := false\n",
            "  connected(loc_11, loc_12) := false\n",
            "  connected(loc_12, loc_12) := false\n",
            "  connected(loc_13, loc_12) := false\n",
            "  connected(loc_14, loc_12) := false\n",
            "  connected(loc_0, loc_13) := false\n",
            "  connected(loc_1, loc_13) := false\n",
            "  connected(loc_2, loc_13) := false\n",
            "  connected(loc_3, loc_13) := false\n",
            "  connected(loc_4, loc_13) := false\n",
            "  connected(loc_7, loc_13) := false\n",
            "  connected(loc_8, loc_13) := false\n",
            "  connected(loc_10, loc_13) := false\n",
            "  connected(loc_12, loc_13) := false\n",
            "  connected(loc_13, loc_13) := false\n",
            "  connected(loc_14, loc_13) := false\n",
            "  connected(loc_0, loc_14) := false\n",
            "  connected(loc_2, loc_14) := false\n",
            "  connected(loc_3, loc_14) := false\n",
            "  connected(loc_4, loc_14) := false\n",
            "  connected(loc_5, loc_14) := false\n",
            "  connected(loc_6, loc_14) := false\n",
            "  connected(loc_7, loc_14) := false\n",
            "  connected(loc_8, loc_14) := false\n",
            "  connected(loc_12, loc_14) := false\n",
            "  connected(loc_13, loc_14) := false\n",
            "  connected(loc_14, loc_14) := false\n",
            "  battery := 100\n",
            "  consumption(loc_0, loc_2) := 14\n",
            "  consumption(loc_2, loc_0) := 14\n",
            "  consumption(loc_0, loc_4) := 21\n",
            "  consumption(loc_4, loc_0) := 21\n",
            "  consumption(loc_0, loc_7) := 14\n",
            "  consumption(loc_7, loc_0) := 14\n",
            "  consumption(loc_1, loc_9) := 19\n",
            "  consumption(loc_9, loc_1) := 19\n",
            "  consumption(loc_1, loc_10) := 8\n",
            "  consumption(loc_10, loc_1) := 8\n",
            "  consumption(loc_1, loc_14) := 12\n",
            "  consumption(loc_14, loc_1) := 12\n",
            "  consumption(loc_2, loc_4) := 14\n",
            "  consumption(loc_4, loc_2) := 14\n",
            "  consumption(loc_2, loc_8) := 13\n",
            "  consumption(loc_8, loc_2) := 13\n",
            "  consumption(loc_3, loc_4) := 16\n",
            "  consumption(loc_4, loc_3) := 16\n",
            "  consumption(loc_3, loc_5) := 12\n",
            "  consumption(loc_5, loc_3) := 12\n",
            "  consumption(loc_3, loc_6) := 14\n",
            "  consumption(loc_6, loc_3) := 14\n",
            "  consumption(loc_3, loc_8) := 17\n",
            "  consumption(loc_8, loc_3) := 17\n",
            "  consumption(loc_3, loc_9) := 13\n",
            "  consumption(loc_9, loc_3) := 13\n",
            "  consumption(loc_3, loc_11) := 13\n",
            "  consumption(loc_11, loc_3) := 13\n",
            "  consumption(loc_4, loc_5) := 20\n",
            "  consumption(loc_5, loc_4) := 20\n",
            "  consumption(loc_4, loc_7) := 19\n",
            "  consumption(loc_7, loc_4) := 19\n",
            "  consumption(loc_4, loc_11) := 16\n",
            "  consumption(loc_11, loc_4) := 16\n",
            "  consumption(loc_4, loc_12) := 17\n",
            "  consumption(loc_12, loc_4) := 17\n",
            "  consumption(loc_5, loc_6) := 15\n",
            "  consumption(loc_6, loc_5) := 15\n",
            "  consumption(loc_5, loc_9) := 12\n",
            "  consumption(loc_9, loc_5) := 12\n",
            "  consumption(loc_5, loc_11) := 12\n",
            "  consumption(loc_11, loc_5) := 12\n",
            "  consumption(loc_5, loc_13) := 19\n",
            "  consumption(loc_13, loc_5) := 19\n",
            "  consumption(loc_6, loc_9) := 10\n",
            "  consumption(loc_9, loc_6) := 10\n",
            "  consumption(loc_6, loc_11) := 9\n",
            "  consumption(loc_11, loc_6) := 9\n",
            "  consumption(loc_6, loc_13) := 12\n",
            "  consumption(loc_13, loc_6) := 12\n",
            "  consumption(loc_7, loc_12) := 17\n",
            "  consumption(loc_12, loc_7) := 17\n",
            "  consumption(loc_9, loc_10) := 21\n",
            "  consumption(loc_10, loc_9) := 21\n",
            "  consumption(loc_9, loc_11) := 8\n",
            "  consumption(loc_11, loc_9) := 8\n",
            "  consumption(loc_9, loc_13) := 16\n",
            "  consumption(loc_13, loc_9) := 16\n",
            "  consumption(loc_9, loc_14) := 16\n",
            "  consumption(loc_14, loc_9) := 16\n",
            "  consumption(loc_10, loc_14) := 13\n",
            "  consumption(loc_14, loc_10) := 13\n",
            "  consumption(loc_11, loc_13) := 14\n",
            "  consumption(loc_13, loc_11) := 14\n",
            "  consumption(loc_11, loc_14) := 18\n",
            "  consumption(loc_14, loc_11) := 18\n",
            "]\n",
            "\n",
            "goals = [\n",
            "  robot_at(loc_10)\n",
            "]\n",
            "\n",
            "\n"
          ]
        }
      ]
    },
    {
      "cell_type": "markdown",
      "source": [
        "### Solving the numeric problem\n",
        "\n",
        "We can use the `problem.kind()` query to obtain a description of the features used in the problem. Using such features the UP library can automatically select a planner capable of solving the problem "
      ],
      "metadata": {
        "id": "XfqxGvp6FAaH"
      }
    },
    {
      "cell_type": "code",
      "source": [
        "with OneshotPlanner(problem_kind=problem.kind) as planner:\n",
        "  result = planner.solve(problem)\n",
        "  if result.status == PlanGenerationResultStatus.SOLVED_SATISFICING:\n",
        "    print(f'{planner.name} found a plan.\\n The plan is: {result.plan}')\n",
        "  else:\n",
        "    print(\"No plan found.\")"
      ],
      "metadata": {
        "id": "a3XGAk_YEyuV",
        "colab": {
          "base_uri": "https://localhost:8080/"
        },
        "outputId": "8b7cb05f-4477-400b-ae1a-288c1140fc93"
      },
      "execution_count": null,
      "outputs": [
        {
          "output_type": "stream",
          "name": "stdout",
          "text": [
            "\u001b[96m  *** Credits ***\n",
            "\u001b[0m\u001b[96m  * In operation mode `OneshotPlanner` at line 1 of `<ipython-input-8-21fa8e8d1793>`, \u001b[0m\u001b[96myou are using the following planning engine:\n",
            "\u001b[0m\u001b[96m  * Engine name: ENHSP\n",
            "  * Developers:  Enrico Scala\n",
            "\u001b[0m\u001b[96m  * Description: \u001b[0m\u001b[96mExpressive Numeric Heuristic Search Planner.\u001b[0m\u001b[96m\n",
            "\u001b[0m\u001b[96m\n",
            "\u001b[0mSAT-enhsp found a plan.\n",
            " The plan is: [move(loc_0, loc_4), move(loc_4, loc_3), move(loc_3, loc_9), move(loc_9, loc_10)]\n"
          ]
        }
      ]
    },
    {
      "cell_type": "markdown",
      "source": [
        "Alternatively, we can specify the planner to run manually"
      ],
      "metadata": {
        "id": "f_DXljF5FjUo"
      }
    },
    {
      "cell_type": "code",
      "source": [
        "with OneshotPlanner(name='tamer') as planner:\n",
        "  result = planner.solve(problem)\n",
        "  if result.status == PlanGenerationResultStatus.SOLVED_SATISFICING:\n",
        "    print(f'{planner.name} found a plan.\\n The plan is: {result.plan}')\n",
        "  else:\n",
        "    print(\"No plan found.\")"
      ],
      "metadata": {
        "id": "RjBV7ojWbmpC",
        "colab": {
          "base_uri": "https://localhost:8080/"
        },
        "outputId": "872dbc3b-f538-44e9-9784-b28b536f7ee2"
      },
      "execution_count": null,
      "outputs": [
        {
          "output_type": "stream",
          "name": "stdout",
          "text": [
            "\u001b[96m  *** Credits ***\n",
            "\u001b[0m\u001b[96m  * In operation mode `OneshotPlanner` at line 1 of `<ipython-input-9-e69ac171bca5>`, \u001b[0m\u001b[96myou are using the following planning engine:\n",
            "\u001b[0m\u001b[96m  * Engine name: Tamer\n",
            "  * Developers:  FBK Tamer Development Team\n",
            "\u001b[0m\u001b[96m  * Description: \u001b[0m\u001b[96mTamer offers the capability to generate a plan for classical, numerical and temporal problems.\n",
            "  *              For those kind of problems tamer also offers the possibility of validating a submitted plan.\u001b[0m\u001b[96m\n",
            "\u001b[0m\u001b[96m\n",
            "\u001b[0mTamer found a plan.\n",
            " The plan is: [move(loc_0, loc_4), move(loc_4, loc_3), move(loc_3, loc_9), move(loc_9, loc_10)]\n"
          ]
        }
      ]
    },
    {
      "cell_type": "markdown",
      "source": [
        "It is also possible to execute multiple planners in parallel, also with different parameters"
      ],
      "metadata": {
        "id": "zjV_jzp2FoDC"
      }
    },
    {
      "cell_type": "code",
      "source": [
        "with OneshotPlanner(names=['tamer', 'tamer', 'enhsp'],\n",
        "                    params=[{'heuristic': 'hadd'}, {'heuristic': 'hmax'}, {}]) as planner:\n",
        "    plan = planner.solve(problem).plan\n",
        "    print(f'{planner.name} returned: {plan}')"
      ],
      "metadata": {
        "id": "2s4MFa-fi2lb",
        "colab": {
          "base_uri": "https://localhost:8080/"
        },
        "outputId": "a17319ba-131e-4753-85b7-e1524d483a54"
      },
      "execution_count": null,
      "outputs": [
        {
          "output_type": "stream",
          "name": "stdout",
          "text": [
            "\u001b[96m  *** Credits ***\n",
            "\u001b[0m\u001b[96m  * In operation mode `OneshotPlanner` at line 2 of `<ipython-input-10-33af32a86da8>`, \u001b[0m\u001b[96myou are using a parallel planning engine with the following components:\n",
            "\u001b[0m\u001b[96m  * Engine name: Tamer\n",
            "  * Developers:  FBK Tamer Development Team\n",
            "\u001b[0m\u001b[96m  * Description: \u001b[0m\u001b[96mTamer offers the capability to generate a plan for classical, numerical and temporal problems.\n",
            "  *              For those kind of problems tamer also offers the possibility of validating a submitted plan.\u001b[0m\u001b[96m\n",
            "\u001b[0m\u001b[96m  * Engine name: Tamer\n",
            "  * Developers:  FBK Tamer Development Team\n",
            "\u001b[0m\u001b[96m  * Description: \u001b[0m\u001b[96mTamer offers the capability to generate a plan for classical, numerical and temporal problems.\n",
            "  *              For those kind of problems tamer also offers the possibility of validating a submitted plan.\u001b[0m\u001b[96m\n",
            "\u001b[0m\u001b[96m  * Engine name: ENHSP\n",
            "  * Developers:  Enrico Scala\n",
            "\u001b[0m\u001b[96m  * Description: \u001b[0m\u001b[96mExpressive Numeric Heuristic Search Planner.\u001b[0m\u001b[96m\n",
            "\u001b[0m\u001b[96m\n",
            "\u001b[0mParallel returned: [move(loc_0, loc_4), move(loc_4, loc_3), move(loc_3, loc_9), move(loc_9, loc_10)]\n"
          ]
        }
      ]
    },
    {
      "cell_type": "markdown",
      "source": [
        "## Analyzing the results\n",
        "\n",
        "The plan objects are fully inspectable programmaticaly, so one can use the results of planning engines in any application setting"
      ],
      "metadata": {
        "id": "yiFwrzKHFu8o"
      }
    },
    {
      "cell_type": "code",
      "source": [
        "import numpy as np\n",
        "import matplotlib.pyplot as plt\n",
        "\n",
        "b = [100]\n",
        "labels = ['<initial value>']\n",
        "for ai in plan.actions:\n",
        "  c = problem.initial_value(consumption(*ai.actual_parameters))\n",
        "  b.append(b[-1] - c.constant_value())\n",
        "  labels.append(str(ai))\n",
        "\n",
        "x = list(range(len(plan.actions)+1))\n",
        "plt.bar(x, b, width=1)\n",
        "\n",
        "plt.xlabel('Plan')\n",
        "plt.ylabel('Battery')\n",
        "plt.xticks(x, labels, rotation='vertical')\n",
        "plt.title('Battery Consumption')\n",
        "plt.show()"
      ],
      "metadata": {
        "id": "k8anNIm6kJ22",
        "colab": {
          "base_uri": "https://localhost:8080/",
          "height": 385
        },
        "outputId": "1dd2dad2-8d6f-4dcb-c77d-139f4d9345e9"
      },
      "execution_count": null,
      "outputs": [
        {
          "output_type": "display_data",
          "data": {
            "text/plain": [
              "<Figure size 432x288 with 1 Axes>"
            ],
            "image/png": "[encoded data removed]"
          },
          "metadata": {
            "needs_background": "light"
          }
        }
      ]
    },
    {
      "cell_type": "markdown",
      "metadata": {
        "id": "J3tblkI9yEnW"
      },
      "source": [
        "# Beyond plan generation"
      ]
    },
    {
      "cell_type": "markdown",
      "metadata": {
        "id": "xbY7bAPByL35"
      },
      "source": [
        "`OneshotPlanner` is not the only **operation mode** we can invoke from the unified_planning, it is just one way to interact with a planning engine. Another useful functionality is `PlanValidation` that checks if a plan is valid for a problem."
      ]
    },
    {
      "cell_type": "code",
      "metadata": {
        "id": "p5s7ZwhzyPKG",
        "colab": {
          "base_uri": "https://localhost:8080/"
        },
        "outputId": "5860f609-c536-4960-db5e-dd260e1a57b7"
      },
      "source": [
        "plan = result.plan\n",
        "with PlanValidator(problem_kind=problem.kind, plan_kind=plan.kind) as validator:\n",
        "    if validator.validate(problem, plan):\n",
        "        print('The plan is valid')\n",
        "    else:\n",
        "        print('The plan is invalid')"
      ],
      "execution_count": null,
      "outputs": [
        {
          "output_type": "stream",
          "name": "stdout",
          "text": [
            "\u001b[96m  *** Credits ***\n",
            "\u001b[0m\u001b[96m  * In operation mode `PlanValidator` at line 2 of `<ipython-input-12-af6de1fb604a>`, \u001b[0m\u001b[96myou are using the following planning engine:\n",
            "\u001b[0m\u001b[96m  * Engine name: Tamer\n",
            "  * Developers:  FBK Tamer Development Team\n",
            "\u001b[0m\u001b[96m  * Description: \u001b[0m\u001b[96mTamer offers the capability to generate a plan for classical, numerical and temporal problems.\n",
            "  *              For those kind of problems tamer also offers the possibility of validating a submitted plan.\u001b[0m\u001b[96m\n",
            "\u001b[0m\u001b[96m\n",
            "\u001b[0mThe plan is valid\n"
          ]
        }
      ]
    },
    {
      "cell_type": "markdown",
      "source": [
        "It is also possible to use the `Compiler` operation mode to create an equivalent formulation of a problem that does not use parameters for the actions. This operation mode is implemented by an internal python code, but also some engines offer advanced grounding techniques. "
      ],
      "metadata": {
        "id": "FtY51vyASTcp"
      }
    },
    {
      "cell_type": "code",
      "source": [
        "with Compiler(problem_kind=problem.kind, compilation_kind=CompilationKind.GROUNDING) as grounder:\n",
        "    grounding_result = grounder.compile(problem, CompilationKind.GROUNDING)\n",
        "    ground_problem, map_back_function = grounding_result.problem, grounding_result.map_back_action_instance\n",
        "\n",
        "    # The map_back_function can be used to \"lift\" a ground plan back to the level of the original problem\n",
        "    with OneshotPlanner(problem_kind=ground_problem.kind) as planner:\n",
        "        ground_plan = planner.solve(ground_problem).plan\n",
        "        print('Ground plan: %s' % ground_plan)\n",
        "        lifted_plan = ground_plan.replace_action_instances(map_back_function)\n",
        "        print('Lifted plan: %s' % lifted_plan)\n",
        "        with PlanValidator(problem_kind=problem.kind, plan_kind=ground_plan.kind) as validator:\n",
        "            assert validator.validate(ground_problem, ground_plan)\n",
        "            assert validator.validate(problem, lifted_plan)\n"
      ],
      "metadata": {
        "id": "2mTQ3DlrSoRk",
        "colab": {
          "base_uri": "https://localhost:8080/"
        },
        "outputId": "8a54e325-1d22-4396-ddc3-77ebde5396c0"
      },
      "execution_count": null,
      "outputs": [
        {
          "output_type": "stream",
          "name": "stdout",
          "text": [
            "\u001b[96m  *** Credits ***\n",
            "\u001b[0m\u001b[96m  * In operation mode `OneshotPlanner` at line 6 of `<ipython-input-13-545655c22848>`, \u001b[0m\u001b[96myou are using the following planning engine:\n",
            "\u001b[0m\u001b[96m  * Engine name: ENHSP\n",
            "  * Developers:  Enrico Scala\n",
            "\u001b[0m\u001b[96m  * Description: \u001b[0m\u001b[96mExpressive Numeric Heuristic Search Planner.\u001b[0m\u001b[96m\n",
            "\u001b[0m\u001b[96m\n",
            "\u001b[0mGround plan: [move_loc_0_loc_4, move_loc_4_loc_5, move_loc_5_loc_9, move_loc_9_loc_10]\n",
            "Lifted plan: [move(loc_0, loc_4), move(loc_4, loc_5), move(loc_5, loc_9), move(loc_9, loc_10)]\n",
            "\u001b[96m  *** Credits ***\n",
            "\u001b[0m\u001b[96m  * In operation mode `PlanValidator` at line 11 of `<ipython-input-13-545655c22848>`, \u001b[0m\u001b[96myou are using the following planning engine:\n",
            "\u001b[0m\u001b[96m  * Engine name: Tamer\n",
            "  * Developers:  FBK Tamer Development Team\n",
            "\u001b[0m\u001b[96m  * Description: \u001b[0m\u001b[96mTamer offers the capability to generate a plan for classical, numerical and temporal problems.\n",
            "  *              For those kind of problems tamer also offers the possibility of validating a submitted plan.\u001b[0m\u001b[96m\n",
            "\u001b[0m\u001b[96m\n",
            "\u001b[0m"
          ]
        }
      ]
    }
  ]
}